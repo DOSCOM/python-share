{
 "cells": [
  {
   "cell_type": "markdown",
   "metadata": {
    "slideshow": {
     "slide_type": "slide"
    }
   },
   "source": [
    "# Getting started on python with notebook\n",
    "\n",
    "prepared and presented by solehudindt for pyshare <br/>\n",
    "[@solehudindt](github.com/solehudindt)"
   ]
  },
  {
   "cell_type": "markdown",
   "metadata": {
    "slideshow": {
     "slide_type": "slide"
    }
   },
   "source": [
    "# Who am I?\n",
    "## solehudindt\n",
    "\n",
    "- IS student at UDINUS\n",
    "- Mostly speak in python\n",
    "- part of DOSCOM\n",
    "- touch me at [@solehudindt](t.me/solehudindt)"
   ]
  },
  {
   "cell_type": "markdown",
   "metadata": {
    "slideshow": {
     "slide_type": "slide"
    }
   },
   "source": [
    "# What is Notebook in Python?\n",
    "Sebuah aplikasi web open-source yang memungkinkan kita membuat dan berbagi dokumen interaktif yang berisi kode live, persamaan, visualisasi, dan teks naratif yang beragam."
   ]
  },
  {
   "cell_type": "markdown",
   "metadata": {
    "slideshow": {
     "slide_type": "notes"
    }
   },
   "source": [
    "Dulu, biasanya kita membagikan kode dan dokumen secara terpisah. Kode-kode kita satukan dalam sebuah librari/aplikasi/proyek (Visual Studio, Eclipse, dsb), dan dokumen kita buat dengan penyunting kata. Dalam dokumen bisa tampilkan cuplikan kode, tampilan hasil, dan visualisasi lainnya dari program kita."
   ]
  },
  {
   "cell_type": "code",
   "execution_count": 8,
   "metadata": {
    "slideshow": {
     "slide_type": "subslide"
    }
   },
   "outputs": [
    {
     "name": "stdout",
     "output_type": "stream",
     "text": [
      "hello world\n"
     ]
    }
   ],
   "source": [
    "## Live code\n",
    "print(\"hello world\")"
   ]
  },
  {
   "cell_type": "markdown",
   "metadata": {
    "slideshow": {
     "slide_type": "subslide"
    }
   },
   "source": [
    "## Text narative with markdown\n",
    "- **Tebal**\n",
    "- *miring*\n",
    "- ~~strikeline~~\n",
    "\n",
    "more at [https://github.com/adam-p/markdown-here/wiki/Markdown-Cheatsheet]"
   ]
  },
  {
   "cell_type": "code",
   "execution_count": 9,
   "metadata": {
    "scrolled": true,
    "slideshow": {
     "slide_type": "subslide"
    }
   },
   "outputs": [
    {
     "data": {
      "image/png": "[encoded data removed]",
      "text/plain": [
       "<Figure size 432x288 with 1 Axes>"
      ]
     },
     "metadata": {
      "needs_background": "light"
     },
     "output_type": "display_data"
    }
   ],
   "source": [
    "## Data visualitation\n",
    "import matplotlib.pyplot as plt\n",
    "\n",
    "years = [1950, 1955, 1960, 1965, 1970, 1975, 1980, 1985, 1990, 1995,\n",
    "         2000, 2005, 2010, 2015]\n",
    "pops = [2525, 2758, 3018, 3322, 3682, 4061, 4440, 4853, 5310, 5735,\n",
    "        6127, 6520, 6930, 7349]\n",
    "\n",
    "plt.plot(years, pops, 'b') # 'r' ada warna merah\n",
    "plt.xlabel('Tahun')\n",
    "plt.ylabel('Populasi')\n",
    "plt.title('Data populasi dunia')\n",
    "plt.show()"
   ]
  },
  {
   "cell_type": "markdown",
   "metadata": {
    "slideshow": {
     "slide_type": "slide"
    }
   },
   "source": [
    "# two most popular notebook\n",
    "\n",
    "1. Jupyter Notebook\n",
    "2. Google Colab [https://colab.research.google.com/]"
   ]
  },
  {
   "cell_type": "markdown",
   "metadata": {
    "slideshow": {
     "slide_type": "slide"
    }
   },
   "source": [
    "## Jupyter Notebook\n",
    "Jupyter, comes from the core supported programming languages that it supports: Julia, Python, and R."
   ]
  },
  {
   "cell_type": "markdown",
   "metadata": {
    "slideshow": {
     "slide_type": "subslide"
    }
   },
   "source": [
    "# Jupyter Notebook Instalation\n",
    "\n",
    "```console\n",
    "soldv@cbpp:~$ pip install jupyter\n",
    "```\n",
    "\n",
    "or just install the anaconda instead hehe ;D"
   ]
  },
  {
   "cell_type": "markdown",
   "metadata": {
    "slideshow": {
     "slide_type": "subslide"
    }
   },
   "source": [
    "## Run the notebook server\n",
    "```console\n",
    "soldv@cbpp:~$ jupyter notebook\n",
    "```"
   ]
  },
  {
   "cell_type": "markdown",
   "metadata": {
    "slideshow": {
     "slide_type": "subslide"
    }
   },
   "source": [
    "# Exporting Notebooks\n",
    "\n",
    "Use the nbconvert tool which comes with Jupyter Notebook to convert or export your Notebook into one of the following formats:\n",
    "\n",
    "- HTML\n",
    "- LaTeX\n",
    "- PDF\n",
    "- RevealJS\n",
    "- Markdown\n",
    "- ReStructured Text\n",
    "- Executable script"
   ]
  },
  {
   "cell_type": "markdown",
   "metadata": {
    "slideshow": {
     "slide_type": "notes"
    }
   },
   "source": [
    "When you are working with Jupyter Notebooks, you will find that you need to share your results with non-technical people."
   ]
  },
  {
   "cell_type": "markdown",
   "metadata": {
    "slideshow": {
     "slide_type": "slide"
    }
   },
   "source": [
    "# Any question??\n",
    "\n",
    "### references:\n",
    "- https://realpython.com/jupyter-notebook-introduction\n",
    "- https://github.com/adam-p/markdown-here/wiki/Markdown-Cheatsheet"
   ]
  }
 ],
 "metadata": {
  "celltoolbar": "Slideshow",
  "kernelspec": {
   "display_name": "Python 3",
   "language": "python",
   "name": "python3"
  },
  "language_info": {
   "codemirror_mode": {
    "name": "ipython",
    "version": 3
   },
   "file_extension": ".py",
   "mimetype": "text/x-python",
   "name": "python",
   "nbconvert_exporter": "python",
   "pygments_lexer": "ipython3",
   "version": "3.7.3"
  }
 },
 "nbformat": 4,
 "nbformat_minor": 2
}
